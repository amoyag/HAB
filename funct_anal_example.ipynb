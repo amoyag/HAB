{
  "cells": [
    {
      "cell_type": "markdown",
      "metadata": {
        "id": "view-in-github",
        "colab_type": "text"
      },
      "source": [
        "<a href=\"https://colab.research.google.com/github/amoyag/HAB_24-25/blob/main/funct_anal_example.ipynb\" target=\"_parent\"><img src=\"https://colab.research.google.com/assets/colab-badge.svg\" alt=\"Open In Colab\"/></a>"
      ]
    },
    {
      "cell_type": "markdown",
      "id": "50db9cfe",
      "metadata": {
        "id": "50db9cfe"
      },
      "source": [
        "## Functional Analysis with STRING-dB"
      ]
    },
    {
      "cell_type": "markdown",
      "id": "01c37986",
      "metadata": {
        "id": "01c37986"
      },
      "source": [
        "[STRING](https://string-db.org) has an extensive API. We can perform statistical enrichment analysis as explained [here](https://www.ncbi.nlm.nih.gov/pmc/articles/PMC3531103/).\n",
        "\n",
        "The STRING enrichment API method allows you to retrieve functional enrichment for any set of input proteins. It will tell you which of your input proteins have an enriched term and the term's description. The API provides the raw p-values, as well as, False Discovery Rate and Bonferroni corrected p-values.\n",
        "See the documentation of the STRING API [here](https://string-db.org/cgi/help.pl?subpage=api%23getting-protein-protein-interaction-enrichment)"
      ]
    },
    {
      "cell_type": "markdown",
      "id": "d8527611",
      "metadata": {
        "id": "d8527611"
      },
      "source": [
        "### Example. Get significantly enriched (FDR < 1%) GO Processes for the given set of proteins"
      ]
    },
    {
      "cell_type": "markdown",
      "id": "a39fd9cd",
      "metadata": {
        "id": "a39fd9cd"
      },
      "source": [
        "#### Setup"
      ]
    },
    {
      "cell_type": "code",
      "execution_count": null,
      "id": "a99c5d69",
      "metadata": {
        "id": "a99c5d69"
      },
      "outputs": [],
      "source": [
        "import requests ## python -m pip install requests\n",
        "import json\n",
        "\n",
        "\n",
        "string_api_url = \"https://version-11-5.string-db.org/api\"\n",
        "output_format = \"json\"\n",
        "# Output options:\n",
        "# tsv tab separated values, with a header line;\n",
        "# tsv-no-header tab separated values,\n",
        "# without header line; json JSON format;\n",
        "# xml XML format\n",
        "method = \"enrichment\""
      ]
    },
    {
      "cell_type": "markdown",
      "id": "e309b33b",
      "metadata": {
        "id": "e309b33b"
      },
      "source": [
        "#### Construct the request"
      ]
    },
    {
      "cell_type": "code",
      "execution_count": null,
      "id": "86375c69",
      "metadata": {
        "id": "86375c69"
      },
      "outputs": [],
      "source": [
        "request_url = \"/\".join([string_api_url, output_format, method])"
      ]
    },
    {
      "cell_type": "markdown",
      "id": "e809a66f",
      "metadata": {
        "id": "e809a66f"
      },
      "source": [
        "#### Set parameters\n",
        "Note that the genes IDs are STRING IDs. You might need to convert them from other IDs to STRING. See the documentation for [mapping identifiers.](https://string-db.org/cgi/help.pl?subpage=api%23mapping-identifiers)\n",
        "\n",
        "Also note that you need to specify the species NCBI identifier. Finally, note how the identifiers are joined to perform the query:\n",
        "\n",
        "The Python code `\"%0d\".join(my_genes)` is using the `join` method to concatenate a list or iterable of strings, `my_genes`, with a specific string separator. However, the separator used here seems to be a bit unusual.\n",
        "\n",
        "Let's break it down:\n",
        "\n",
        "- `join`: This is a string method in Python that is used to join the elements of an iterable (like a list or tuple) into a single string. The elements of the iterable must be strings.\n",
        "\n",
        "- `\"%0d\"`: This is a string that contains a percent sign (%) followed by a 0 and a letter d. The percent sign is often used in string formatting, but in this context, it is treated as a regular character, and there is no string formatting happening.\n",
        "\n",
        "So, if `my_genes` is a list of strings, this code will concatenate those strings using \"%0d\" as the separator between the elements.\n",
        "\n",
        "For example, if `my_genes = [\"A\", \"T\", \"G\", \"C\"]`, the result would be `\"A%0dT%0dG%0dC\"`."
      ]
    },
    {
      "cell_type": "code",
      "execution_count": null,
      "id": "061d1fb2",
      "metadata": {
        "id": "061d1fb2"
      },
      "outputs": [],
      "source": [
        "my_genes = ['7227.FBpp0074373', '7227.FBpp0077451', '7227.FBpp0077788',\n",
        "            '7227.FBpp0078993', '7227.FBpp0079060', '7227.FBpp0079448']\n",
        "\n",
        "\n",
        "params = {\n",
        "\n",
        "    \"identifiers\" : \"%0d\".join(my_genes), # your protein\n",
        "    \"species\" : 7227, # species NCBI identifier\n",
        "    \"caller_identity\" : \"test_HAB\" # your app name\n",
        "\n",
        "}"
      ]
    },
    {
      "cell_type": "markdown",
      "id": "74bda31f",
      "metadata": {
        "id": "74bda31f"
      },
      "source": [
        "#### Call STRING"
      ]
    },
    {
      "cell_type": "code",
      "execution_count": null,
      "id": "dfcea066",
      "metadata": {
        "id": "dfcea066"
      },
      "outputs": [],
      "source": [
        "response = requests.post(request_url, data=params)"
      ]
    },
    {
      "cell_type": "markdown",
      "id": "b3ad3262",
      "metadata": {
        "id": "b3ad3262"
      },
      "source": [
        "#### Read and parse the results\n",
        "We have selected JSON as the output format, so we will process the enrichment data accordingly. The `.text` is a property of the object `response` that provides access to the response content as a Unicode string.  Note that we need to define which category do we need to print out."
      ]
    },
    {
      "cell_type": "code",
      "execution_count": null,
      "id": "9c10f7bb",
      "metadata": {
        "id": "9c10f7bb",
        "outputId": "65379718-650c-41d3-853a-6c1c63af3210"
      },
      "outputs": [
        {
          "name": "stdout",
          "output_type": "stream",
          "text": [
            "GO:0007447\tfu,dpp,smo,ihog,wg,Pka-C1\t1.71e-09\tProcess\tImaginal disc pattern formation\n",
            "GO:0007448\tdpp,smo,ihog,wg,Pka-C1\t1.71e-09\tProcess\tAnterior/posterior pattern specification, imaginal disc\n",
            "GO:0035220\tfu,dpp,smo,ihog,wg,Pka-C1\t7.78e-07\tProcess\tWing disc development\n",
            "GO:0009880\tfu,dpp,smo,wg,Pka-C1\t2.81e-06\tProcess\tEmbryonic pattern specification\n",
            "GO:0035282\tfu,smo,ihog,wg,Pka-C1\t4.18e-06\tProcess\tSegmentation\n",
            "GO:0035222\tfu,dpp,smo,ihog\t1.03e-05\tProcess\tWing disc pattern formation\n",
            "GO:0007224\tfu,smo,ihog\t1.04e-05\tProcess\tSmoothened signaling pathway\n",
            "GO:0007166\tfu,dpp,smo,ihog,wg\t3.26e-05\tProcess\tCell surface receptor signaling pathway\n",
            "GO:0007165\tfu,dpp,smo,ihog,wg,Pka-C1\t5.69e-05\tProcess\tSignal transduction\n",
            "GO:0007350\tfu,smo,wg,Pka-C1\t0.00013\tProcess\tBlastoderm segmentation\n",
            "GO:0007367\tfu,smo,wg\t0.00015\tProcess\tSegment polarity determination\n",
            "GO:0048477\tfu,dpp,smo,wg,Pka-C1\t0.00018\tProcess\tOogenesis\n",
            "GO:0007476\tdpp,smo,wg,Pka-C1\t0.00043\tProcess\tImaginal disc-derived wing morphogenesis\n",
            "GO:0035217\tdpp,wg\t0.00049\tProcess\tLabial disc development\n",
            "GO:0035263\tdpp,wg\t0.00063\tProcess\tGenital disc sexually dimorphic development\n",
            "GO:0008589\tfu,smo,Pka-C1\t0.00079\tProcess\tRegulation of smoothened signaling pathway\n",
            "GO:0048749\tdpp,smo,ihog,wg\t0.00083\tProcess\tCompound eye development\n",
            "GO:0035224\tdpp,wg\t0.00096\tProcess\tGenital disc anterior/posterior pattern formation\n",
            "GO:0035153\tdpp,wg\t0.0011\tProcess\tEpithelial cell type specification, open tracheal system\n",
            "GO:0061320\tdpp,wg\t0.0012\tProcess\tPericardial nephrocyte differentiation\n",
            "GO:0045595\tdpp,smo,wg,Pka-C1\t0.0015\tProcess\tRegulation of cell differentiation\n",
            "GO:0035168\tdpp,wg\t0.0017\tProcess\tLarval lymph gland hemocyte differentiation\n",
            "GO:0035309\tdpp,wg\t0.0017\tProcess\tWing and notum subfield formation\n",
            "GO:0010002\tdpp,wg\t0.0019\tProcess\tCardioblast differentiation\n",
            "GO:0007398\tdpp,wg\t0.0021\tProcess\tEctoderm development\n",
            "GO:0048100\tsmo,ihog\t0.0025\tProcess\tWing disc anterior/posterior pattern formation\n",
            "GO:0045572\tdpp,wg\t0.0026\tProcess\tPositive regulation of imaginal disc growth\n",
            "GO:0060341\tfu,smo,Pka-C1\t0.0026\tProcess\tRegulation of cellular localization\n",
            "GO:0009653\tfu,dpp,smo,wg,Pka-C1\t0.0046\tProcess\tAnatomical structure morphogenesis\n",
            "GO:0046822\tfu,Pka-C1\t0.005\tProcess\tRegulation of nucleocytoplasmic transport\n",
            "GO:0043067\tsmo,wg,Pka-C1\t0.0053\tProcess\tRegulation of programmed cell death\n",
            "GO:0030182\tdpp,smo,wg,Pka-C1\t0.0055\tProcess\tNeuron differentiation\n",
            "GO:0048519\tfu,dpp,smo,wg,Pka-C1\t0.0063\tProcess\tNegative regulation of biological process\n",
            "GO:0035017\tihog,wg\t0.0064\tProcess\tCuticle pattern formation\n",
            "GO:2000736\tdpp,smo\t0.0064\tProcess\tRegulation of stem cell differentiation\n",
            "GO:0048522\tfu,dpp,smo,wg,Pka-C1\t0.0071\tProcess\tPositive regulation of cellular process\n",
            "GO:0009966\tfu,dpp,smo,Pka-C1\t0.0073\tProcess\tRegulation of signal transduction\n",
            "GO:0007455\tdpp,smo\t0.0076\tProcess\tEye-antennal disc morphogenesis\n",
            "GO:0001745\tdpp,smo,wg\t0.0087\tProcess\tCompound eye morphogenesis\n",
            "GO:0007443\tdpp,wg\t0.0094\tProcess\tMalpighian tubule morphogenesis\n"
          ]
        }
      ],
      "source": [
        "data = json.loads(response.text)\n",
        "\n",
        "for row in data:\n",
        "\n",
        "    term = row[\"term\"]\n",
        "    preferred_names = \",\".join(row[\"preferredNames\"])\n",
        "    fdr = float(row[\"fdr\"])\n",
        "    description = row[\"description\"]\n",
        "    category = row[\"category\"]\n",
        "\n",
        "    if category == \"Process\" and fdr < 0.01: # GO BP\n",
        "    # if category == \"KEGG\" and fdr < 0.01: # KEGG Pathways\n",
        "    # if fdr < 0.01: # All STRING Categories\n",
        "\n",
        "        ## print significant GO Process annotations\n",
        "\n",
        "        print(\"\\t\".join([term, preferred_names, str(fdr), category, description]))\n"
      ]
    }
  ],
  "metadata": {
    "kernelspec": {
      "display_name": "Python 3 (ipykernel)",
      "language": "python",
      "name": "python3"
    },
    "language_info": {
      "codemirror_mode": {
        "name": "ipython",
        "version": 3
      },
      "file_extension": ".py",
      "mimetype": "text/x-python",
      "name": "python",
      "nbconvert_exporter": "python",
      "pygments_lexer": "ipython3",
      "version": "3.11.5"
    },
    "colab": {
      "provenance": [],
      "include_colab_link": true
    }
  },
  "nbformat": 4,
  "nbformat_minor": 5
}